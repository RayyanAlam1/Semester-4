{
  "nbformat": 4,
  "nbformat_minor": 0,
  "metadata": {
    "colab": {
      "provenance": []
    },
    "kernelspec": {
      "name": "python3",
      "display_name": "Python 3"
    },
    "language_info": {
      "name": "python"
    }
  },
  "cells": [
    {
      "cell_type": "markdown",
      "source": [
        "**Run if error occurs**"
      ],
      "metadata": {
        "id": "1TLRFpAotaHd"
      }
    },
    {
      "cell_type": "code",
      "source": [
        "%pip install ipympl\n",
        "from google.colab import output\n",
        "output.enable_custom_widget_manager()"
      ],
      "metadata": {
        "id": "TvWOTRGEAGA-"
      },
      "execution_count": null,
      "outputs": []
    },
    {
      "cell_type": "markdown",
      "source": [
        "**Including Required Libraries**"
      ],
      "metadata": {
        "id": "QYm5Isp8s9uk"
      }
    },
    {
      "cell_type": "code",
      "execution_count": 12,
      "metadata": {
        "id": "l4EQSFyARbA3"
      },
      "outputs": [],
      "source": [
        "%matplotlib ipympl\n",
        "import numpy as np\n",
        "from tabulate import tabulate\n",
        "import matplotlib.pyplot as plt\n",
        "from mpl_toolkits.mplot3d import Axes3D"
      ]
    },
    {
      "cell_type": "markdown",
      "source": [
        "**Initialisation**"
      ],
      "metadata": {
        "id": "XiiCyu5Ptnqa"
      }
    },
    {
      "cell_type": "code",
      "source": [
        "x0=1\n",
        "x = np.random.rand(10,1)\n",
        "y = 2 * x + np.random.randn(10,1)\n",
        "m = len(y)\n",
        "θ = [0,0]\n",
        "\n",
        "#plotting data for graphs\n",
        "plotting_x = np.linspace(0, 1, 100) #points to be used for funtion h(x,θ₀,θ₁)\n",
        "plotting_θ_0 = np.linspace(-1.2, 3, 100) #points used for plotting J(θ₀,θ₁)\n",
        "plotting_θ_1 = np.linspace(-1.2, 3, 100) #points used for plotting J(θ₀,θ₁)\n",
        "plotting_θ_0, plotting_θ_1 = np.meshgrid(plotting_θ_0, plotting_θ_1)"
      ],
      "metadata": {
        "id": "tBvZPbCNt0Bl"
      },
      "execution_count": 21,
      "outputs": []
    },
    {
      "cell_type": "markdown",
      "source": [
        "**Predictor function h(x,θ₀,θ₁)**\n",
        "> Returns best fit value"
      ],
      "metadata": {
        "id": "L_VNa1idt4zP"
      }
    },
    {
      "cell_type": "code",
      "source": [
        "def h(x,θ0,θ1):\n",
        "  return ((θ0 * x0) + (θ1 * x))"
      ],
      "metadata": {
        "id": "RTJV4n67uekE"
      },
      "execution_count": 14,
      "outputs": []
    },
    {
      "cell_type": "markdown",
      "source": [
        "**Cost function J(θ₀,θ₁)**\n",
        "> Returns Cost"
      ],
      "metadata": {
        "id": "pcz9CKXkujc0"
      }
    },
    {
      "cell_type": "code",
      "source": [
        "def J(θ0,θ1):\n",
        "  sum=0\n",
        "  for i in range(m):\n",
        "    sum+=(h(x[i],θ0,θ1) - y[i]) ** 2\n",
        "  return sum / (2 * m)"
      ],
      "metadata": {
        "id": "on2GgGVBu8c3"
      },
      "execution_count": 15,
      "outputs": []
    },
    {
      "cell_type": "markdown",
      "source": [
        "**Gradient Descent function**\n",
        "\n",
        "\n",
        "> Adjusts the values of θ[0] and θ[1], such that they give best fit value for all x\n"
      ],
      "metadata": {
        "id": "a9sOVPJpvDZb"
      }
    },
    {
      "cell_type": "code",
      "source": [
        "def gradientDescent(learningRate = 0.1, tol = 1e-18):\n",
        "\n",
        "  #initialising scatter plot\n",
        "  fig1, ax = plt.subplots(1, 1, figsize=(6, 6))\n",
        "\n",
        "  #setting up the 3D plots for gradient descent\n",
        "  threeDimensionalFigure = plt.figure(figsize=(7, 7))\n",
        "  surface_ax = threeDimensionalFigure.add_subplot(1, 1, 1, projection='3d')\n",
        "  surface_ax.set_xlabel('θ₀')\n",
        "  surface_ax.set_ylabel('θ₁')\n",
        "  surface_ax.set_zlabel('J(θ₀,θ₁)')\n",
        "  surface_ax.plot_surface(plotting_θ_0, plotting_θ_1, J(plotting_θ_0, plotting_θ_1), color='black', alpha=0.3)\n",
        "\n",
        "  tabulationContainer = [] #initialising container for tabulation\n",
        "  i=0\n",
        "  Jnew = 1\n",
        "  Jold = J(θ[0],θ[1])\n",
        "\n",
        "  tabulationContainer.append([0, θ[0], θ[1], Jold, 0, 0])\n",
        "  #plotting initial points on the 3D plots\n",
        "  surface_ax.scatter(θ[0], θ[1], Jold, 'o', color='red', alpha=1.0)\n",
        "\n",
        "  while abs(Jnew - Jold) > tol :\n",
        "    i=i+1\n",
        "    Jold = J(θ[0],θ[1])\n",
        "    for j in range(0,2):\n",
        "      sum=0\n",
        "      for k in range(m):\n",
        "        if j==0:\n",
        "          sum+=(h(x[k],θ[0],θ[1]) - y[k]) * 1\n",
        "        else:\n",
        "          sum+=(h(x[k],θ[0],θ[1]) - y[k]) * x[k]\n",
        "\n",
        "      θ[j] = θ[j] - ((learningRate * sum) / m )\n",
        "    Jnew = J(θ[0],θ[1])\n",
        "\n",
        "    surface_ax.scatter(θ[0], θ[1], Jnew, 'o', color='blue', alpha=1.0)\n",
        "    error = abs(Jnew - Jold)\n",
        "    tabulationContainer.append([i, θ[0], θ[1], Jnew, Jold, error])\n",
        "\n",
        "\n",
        "  #plotting the final value of J(θ₀,θ₁) in which θs are reduced\n",
        "  surface_ax.scatter(θ[0], θ[1], J(θ[0], θ[1]), 'o', color='green', alpha=1.0)\n",
        "  surface_ax.set_title(f'3D plot of J(θ₀,θ₁) when α: {learningRate}')\n",
        "  print(f'Gradient Descent with α = {learningRate} took {i} iterations')\n",
        "\n",
        "  #printing the data in tabular form\n",
        "  print()\n",
        "  print(tabulate(tabulationContainer, headers=['iterations', 'θ₀', 'θ₁', 'new J(θ₀,θ₁)', 'old J(θ₀,θ₁)', 'error'], tablefmt=\"github\"))\n",
        "  print()\n",
        "\n",
        "  #scatter plot\n",
        "  ax.plot(x, y, 'rx')\n",
        "  ax.plot(plotting_x, h(plotting_x,θ[0],θ[1]), 'b-')\n",
        "  ax.set_title(f'plot of α : {learningRate}')\n",
        "  ax.set_box_aspect(1)\n"
      ],
      "metadata": {
        "id": "RFU2stPqMQH_"
      },
      "execution_count": 22,
      "outputs": []
    },
    {
      "cell_type": "markdown",
      "source": [
        "**Call to observe Gradient Descent Algorithm in 3 ways:**\n",
        "\n",
        "1.   Tabular\n",
        "2.   Scatter plot\n",
        "3.   3d plot"
      ],
      "metadata": {
        "id": "FufU8AgB783g"
      }
    },
    {
      "cell_type": "code",
      "source": [
        "gradientDescent()"
      ],
      "metadata": {
        "id": "HEuGmrUC77hB"
      },
      "execution_count": null,
      "outputs": []
    },
    {
      "cell_type": "code",
      "source": [
        "plt.close(\"all\")"
      ],
      "metadata": {
        "id": "Rdaezv43KCQ4"
      },
      "execution_count": 17,
      "outputs": []
    }
  ]
}